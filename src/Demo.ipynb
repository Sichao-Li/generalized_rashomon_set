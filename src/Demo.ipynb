{
 "cells": [
  {
   "cell_type": "code",
   "execution_count": 1,
   "outputs": [
    {
     "name": "stderr",
     "output_type": "stream",
     "text": [
      "<frozen importlib._bootstrap>:228: RuntimeWarning: sklearn.tree._splitter.Splitter size changed, may indicate binary incompatibility. Expected 360 from C header, got 1160 from PyObject\n"
     ]
    }
   ],
   "source": [
    "from general_utilities import *\n",
    "from visulizer import *\n",
    "# from feature_interaction_helper import *\n",
    "from feature_importance_helper import *\n",
    "from feature_interaction_score_utilities import *\n",
    "from sklearn.metrics import mean_squared_error, r2_score, log_loss\n",
    "from FIS_explainer import fis_explainer"
   ],
   "metadata": {
    "collapsed": false,
    "pycharm": {
     "name": "#%%\n"
    }
   }
  },
  {
   "cell_type": "code",
   "execution_count": 40,
   "metadata": {
    "collapsed": true,
    "pycharm": {
     "name": "#%%\n"
    }
   },
   "outputs": [
    {
     "name": "stdout",
     "output_type": "stream",
     "text": [
      "Optimization terminated successfully.\n",
      "         Current function value: 0.637838\n",
      "         Iterations 6\n"
     ]
    }
   ],
   "source": [
    "\n",
    "data = pd.read_csv('../compas.csv', usecols=['Age=18-20', 'Race=African-American', 'Prior-Crimes=0', 'Gender=Male', 'Juvenile-Crimes=0', 'Current-Charge-Degree=Misdemeanor'])\n",
    "X = data.rename({'Age=18-20':\"age\", 'Race=African-American':\"race\", 'Prior-Crimes=0':\"prior\", 'Gender=Male':\"gender\", 'Juvenile-Crimes=0':\"juvenilecrime\", 'Current-Charge-Degree=Misdemeanor':\"currentcharge\"}, axis='columns')\n",
    "y = pd.read_csv('../compas.csv', usecols=['Recidivate-Within-Two-Years'])\n",
    "# y[y==0] = -1\n",
    "vlist = [\"age\", \"race\", \"prior\", \"gender\", \"juvenilecrime\", \"currentcharge\"]\n",
    "# vlist = [\"age\", \"race\", \"prior\", \"gender\"]\n",
    "X, y = pd_to_numpy(X, y)\n",
    "X_added_constant = sm.add_constant(X)\n",
    "mu, sigma = 0, 0.1\n",
    "X_train, X_test, y_train, y_test = train_test_split(X_added_constant, y, random_state = 2023, test_size=0.2)\n",
    "\n",
    "# model = LogisticRegression(solver='liblinear').fit(X_train, y_train)\n",
    "model = sm.Logit(y_train, X_train).fit()"
   ]
  },
  {
   "cell_type": "code",
   "execution_count": 42,
   "outputs": [],
   "source": [
    "e = fis_explainer(model, X_train, y_train, epsilon_rate=0.1, loss_fn='classification')"
   ],
   "metadata": {
    "collapsed": false,
    "pycharm": {
     "name": "#%%\n"
    }
   }
  },
  {
   "cell_type": "code",
   "execution_count": 8,
   "outputs": [],
   "source": [
    "import torch\n",
    "import numpy as np\n",
    "from tqdm import tqdm\n",
    "import sys\n",
    "\n",
    "sys.path.append(\"../archipelago-main/src\")\n",
    "from explainer import Archipelago\n",
    "sys.path.append(\"../archipelago-main/experiments/1. archdetect\")\n",
    "from synthetic_utils import *\n",
    "sys.path.append(\"../../../../FI-in-Rset\")\n",
    "from visulizer import *\n",
    "from feature_importance_helper import *\n",
    "from feature_interaction_score_utilities import *\n",
    "\n",
    "import statsmodels.api as sm\n",
    "from statsmodels.formula.api import ols\n",
    "\n",
    "%load_ext autoreload\n",
    "%autoreload 2"
   ],
   "metadata": {
    "collapsed": false,
    "pycharm": {
     "name": "#%%\n"
    }
   }
  },
  {
   "cell_type": "code",
   "execution_count": 9,
   "outputs": [
    {
     "name": "stdout",
     "output_type": "stream",
     "text": [
      "function id: 4\n"
     ]
    }
   ],
   "source": [
    "function_id = 4\n",
    "p = 40 # num features\n",
    "input_value, base_value = 1, -1\n",
    "print(\"function id:\", function_id)\n",
    "model = synth_model(function_id, input_value, base_value)\n",
    "gts = model.get_gts(p)"
   ],
   "metadata": {
    "collapsed": false,
    "pycharm": {
     "name": "#%%\n"
    }
   }
  }
 ],
 "metadata": {
  "kernelspec": {
   "display_name": "Python 3",
   "language": "python",
   "name": "python3"
  },
  "language_info": {
   "codemirror_mode": {
    "name": "ipython",
    "version": 2
   },
   "file_extension": ".py",
   "mimetype": "text/x-python",
   "name": "python",
   "nbconvert_exporter": "python",
   "pygments_lexer": "ipython2",
   "version": "2.7.6"
  }
 },
 "nbformat": 4,
 "nbformat_minor": 0
}