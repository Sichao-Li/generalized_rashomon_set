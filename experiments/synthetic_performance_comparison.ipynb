{
 "cells": [
  {
   "cell_type": "code",
   "execution_count": 5,
   "metadata": {
    "pycharm": {
     "name": "#%%\n"
    }
   },
   "outputs": [
    {
     "name": "stdout",
     "output_type": "stream",
     "text": [
      "The autoreload extension is already loaded. To reload it, use:\n",
      "  %reload_ext autoreload\n"
     ]
    }
   ],
   "source": [
    "import torch\n",
    "import numpy as np\n",
    "from tqdm import tqdm\n",
    "from visulizer import *\n",
    "from feature_importance_helper import *\n",
    "from feature_interaction_score_utilities import *\n",
    "\n",
    "import sys\n",
    "\n",
    "sys.path.append(\"../src\")\n",
    "from FIS_explainer import fis_explainer_context\n",
    "\n",
    "sys.path.append(\"archipelago-baseline/src\")\n",
    "from explainer import Archipelago\n",
    "\n",
    "sys.path.append(\"archipelago-baseline/experiments/1. archdetect\")\n",
    "from synthetic_utils import *\n",
    "\n",
    "sys.path.append(\"archipelago-baseline/baselines/shapley_interaction_index\")\n",
    "from si_explainer import SiExplainer\n",
    "\n",
    "sys.path.append(\"archipelago-baseline/baselines/shapley_taylor_interaction_index\")\n",
    "from sti_explainer import StiExplainer, subset_before\n",
    "\n",
    "sys.path.append(\"archipelago-baseline/baselines/mahe_madex/madex\")\n",
    "from utils import general_utils as nid_utils\n",
    "import neural_interaction_detection as nid\n",
    "\n",
    "import statsmodels.api as sm\n",
    "from statsmodels.formula.api import ols\n",
    "\n",
    "%load_ext autoreload\n",
    "%autoreload 2"
   ]
  },
  {
   "cell_type": "markdown",
   "metadata": {
    "pycharm": {
     "name": "#%% md\n"
    }
   },
   "source": [
    "## Get Data and Synthetic Function"
   ]
  },
  {
   "cell_type": "code",
   "execution_count": 2,
   "metadata": {
    "pycharm": {
     "name": "#%%\n"
    }
   },
   "outputs": [
    {
     "name": "stdout",
     "output_type": "stream",
     "text": [
      "function id: 4\n"
     ]
    }
   ],
   "source": [
    "method = \"fis\"\n",
    "function_id = 4\n",
    "p = 40 # num features\n",
    "input_value, base_value = 1, -1\n",
    "\n",
    "input = np.array([input_value]*p)\n",
    "baseline = np.array([base_value]*p)\n",
    "model = synth_model(function_id, input_value, base_value)\n",
    "gts = model.get_gts(p)\n",
    "print(\"function id:\", function_id)"
   ]
  },
  {
   "cell_type": "markdown",
   "metadata": {
    "pycharm": {
     "name": "#%% md\n"
    }
   },
   "source": [
    "## Baseline Methods (comparison code adopted from archipelago)"
   ]
  },
  {
   "cell_type": "code",
   "execution_count": 3,
   "metadata": {
    "pycharm": {
     "name": "#%%\n"
    }
   },
   "outputs": [],
   "source": [
    "if method == 'fis':\n",
    "    X, Y = gen_data_samples(model, input_value, base_value, p, n=30000, seed=42)\n",
    "    fis_context_one = fis_explainer_context(context=1, model=model, input=X, output=Y, epsilon_rate=0.1, loss_fn='regression', return_ref_main_effects=True, return_ref_pairwise_effects=True)\n",
    "    fis_context_negative_one = fis_explainer_context(context=-1, model=model, input=X, output=Y, epsilon_rate=0.1, loss_fn='regression', return_ref_main_effects=True, return_ref_pairwise_effects=True)\n",
    "    inter_scores = []\n",
    "    pairs = find_all_n_way_feature_pairs(range(40), 2)\n",
    "    for idx, i in enumerate(pairs):\n",
    "        inter_scores.append((i, fis_context_one._get_ref_fis()[idx][-1] + fis_context_negative_one._get_ref_fis()[idx][-1]))\n",
    "\n",
    "elif method == \"archdetect\":\n",
    "    apgo = Archipelago(model, input=input, baseline=baseline, output_indices=0, batch_size=20) \n",
    "    inter_scores = apgo.archdetect()[\"interactions\"]\n",
    "    \n",
    "elif method == \"si\":\n",
    "    si_method = SiExplainer(model, input=input, baseline=baseline, output_indices=0, batch_size=20, seed=42)\n",
    "\n",
    "    num_T = 20\n",
    "    inter_scores = []\n",
    "    for i in range(p):\n",
    "        for j in range(i+1, p):\n",
    "            S = (i,j)\n",
    "            att = si_method.attribution(S, num_T)\n",
    "            inter_scores.append( (S, att**2))\n",
    "\n",
    "elif method == \"sti\":\n",
    "    sti_method = StiExplainer(model, input=input, baseline=baseline, output_indices=0, batch_size=20)\n",
    "    \n",
    "    inter_atts = sti_method.batch_attribution(num_orderings=20, pairwise=True, seed=42)\n",
    "    inter_scores = []\n",
    "    for i in range(p):\n",
    "        for j in range(i+1, p):\n",
    "            inter_scores.append( ( (i,j), inter_atts[i,j]**2) )\n",
    "            \n",
    "elif method == \"nid\":\n",
    "    X, Y = gen_data_samples(model, input_value, base_value, p, n=30000, seed=42)\n",
    "    Xs, Ys = nid_utils.proprocess_data(X, Y, valid_size = 10000, test_size=10000, std_scale_X=True, std_scale=True)\n",
    "    inter_scores, mlp_loss = nid.detect_interactions(Xs, Ys, pairwise=True, seed=42)\n",
    "\n",
    "elif method == \"anova\":\n",
    "    X, Y = gen_data_samples(model, input_value, base_value, p, n=30000, seed=42)\n",
    "    Xs, Ys = nid_utils.proprocess_data(X, Y, valid_size = 10000, test_size=10000, std_scale_X=True, std_scale=True)\n",
    "    X_train = Xs[\"train\"]\n",
    "    Y_train = Ys[\"train\"]\n",
    "    \n",
    "    data =  {}\n",
    "    data['y'] = Y_train.squeeze()\n",
    "    st =''\n",
    "    for i in range(0,X_train.shape[1]):    \n",
    "        data['X'+str(i)] = X_train[:,i]\n",
    "        st+='+X'+str(i)\n",
    "    st = \"(\"+st[1:]+\")\"\n",
    "    formula = 'y ~ '+st+\":\"+st\n",
    "\n",
    "    lm = ols(formula,data=data).fit()\n",
    "\n",
    "    table = sm.stats.anova_lm(lm, typ=2)\n",
    "    inter_scores = []\n",
    "    for i, name in enumerate(table.index):\n",
    "        if name == \"Residual\": continue\n",
    "        inter = tuple(int(x) for x in name.replace(\"X\", \"\").split(\":\"))\n",
    "        if len(inter)==1: continue\n",
    "        inter_scores.append((inter, table.values[i,0]))\n",
    "\n"
   ]
  },
  {
   "cell_type": "code",
   "execution_count": 4,
   "outputs": [
    {
     "name": "stdout",
     "output_type": "stream",
     "text": [
      "auc 1e+00\n"
     ]
    }
   ],
   "source": [
    "print(\"auc\", get_auc(inter_scores, gts))"
   ],
   "metadata": {
    "collapsed": false,
    "pycharm": {
     "name": "#%%\n"
    }
   }
  }
 ],
 "metadata": {
  "kernelspec": {
   "display_name": "Python 3 (ipykernel)",
   "language": "python",
   "name": "python3"
  },
  "language_info": {
   "codemirror_mode": {
    "name": "ipython",
    "version": 3
   },
   "file_extension": ".py",
   "mimetype": "text/x-python",
   "name": "python",
   "nbconvert_exporter": "python",
   "pygments_lexer": "ipython3",
   "version": "3.9.15"
  }
 },
 "nbformat": 4,
 "nbformat_minor": 4
}